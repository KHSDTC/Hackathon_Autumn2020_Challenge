{
 "cells": [
  {
   "cell_type": "code",
   "execution_count": 20,
   "metadata": {},
   "outputs": [],
   "source": [
    "# importing libraries\n",
    "import matplotlib.pyplot as plt\n",
    "import numpy as np\n",
    "import pandas as pd\n",
    "from scipy import stats\n",
    "from sklearn.metrics import accuracy_score\n",
    "from sklearn.model_selection import train_test_split\n",
    "#from sklearn.preprocessing import MinMaxScaler\n",
    "#from sklearn.preprocessing import StandardScaler\n",
    "from sklearn.preprocessing import QuantileTransformer\n",
    "from sklearn.svm import LinearSVC\n",
    "#from sklearn.svm import SVC\n",
    "#from sklearn.neighbors import KNeighborsClassifier\n",
    "#from sklearn.decomposition import PCA as RandomizedPCA"
   ]
  },
  {
   "cell_type": "code",
   "execution_count": 21,
   "metadata": {
    "scrolled": true
   },
   "outputs": [],
   "source": [
    "# importing dataset\n",
    "dataset_train = pd.read_csv('Hackathon_Autumn2020_Challenge/challenge_dataset/train_data_imputed.csv', index_col=0)\n",
    "dataset_unseen = pd.read_csv('Hackathon_Autumn2020_Challenge/challenge_dataset/unseen_data_imputed.csv', index_col=0)\n",
    "#print(dataset_train)\n",
    "#print(dataset_unseen)"
   ]
  },
  {
   "cell_type": "code",
   "execution_count": 23,
   "metadata": {},
   "outputs": [
    {
     "name": "stdout",
     "output_type": "stream",
     "text": [
      "{'BMXWT': 'Weight (kg)', 'BMXBMI': 'Body Mass Index (kg/m**2)', 'BMXWAIST': 'Waist Circumference (cm)', 'ALQ120Q': 'How often drink alcohol over past 12 mos', 'BPXSAR': 'SBP average reported to examinee', 'BPXDAR': 'DBP average reported to examinee', 'RIDAGEMN': 'Age in Months - Recode', 'INDFMPIR': 'Family PIR\\t', 'DRXTKCAL': 'Energy (kcal)\\t', 'DRXTPROT': 'Protein (gm)\\t', 'DRXTCARB': 'Carbohydrate (gm)\\t', 'DRXTTFAT': 'Total fat (gm)', 'DRXTSFAT': 'Total saturated fatty acids (gm)', 'DRXTMFAT': 'Total monounsaturated fatty acids (gm)', 'DRXTPFAT': 'Total polyunsaturated fatty acids (gm)', 'DRXTCHOL': 'Cholesterol (mg)', 'DRXTFIBE': 'Dietary fiber (gm)', 'DRXTVB1': 'Thiamin (Vitamin B1) (mg)', 'DRXTVB2': 'Riboflavin (Vitamin B2) (mg)', 'DRXTFOLA': 'Total Folate (mcg)', 'DRXTVB12': 'Vitamin B12 (mcg)', 'DRXTVC': 'Vitamin C (mg)', 'DRXTCALC': 'Calcium (mg)', 'DRXTMAGN': 'Magnesium (mg)', 'DRXTIRON': 'Iron (mg)', 'DRXTZINC': 'Zinc (mg)', 'DRXTCAFF': 'Caffeine (mg)', 'DRXTALCO': 'Alcohol (gm)', 'LBXGH': 'Glycohemoglobin (%)', 'LBXGLU': 'Glucose, plasma (mg/dL)', 'LBXCPSI': 'C-peptide: SI(nmol/L)', 'LBXIN': 'Insulin (uU/mL)', 'LBXCRP': 'C-reactive protein(mg/dL)', 'LBXTC': 'Total cholesterol (mg/dL)', 'LBDHDL': 'HDL-cholesterol (mg/dL)', 'LBXTR': 'Triglyceride (mg/dL)', 'LBDLDL': 'LDL-cholesterol (mg/dL)', 'URXUMASI': 'Albumin, urine (mg/L) SI', 'URXUCR': 'Creatinine, urine (mg/dL)', 'LBXSATSI': 'Alanine aminotransferase ALT (U/L)', 'LBXSAPSI': 'Alkaline phosphotase (U/L)', 'LBXSGTSI': 'Gamma glutamyl transferase (U/L)', 'LBXSTB': 'Bilirubin, total (mg/dL)', 'LBXT4': 'Thyroxine (T4) (ug/dL)', 'LBXTSH': 'Thyroid stim hormone (TSH) (IU/L)', 'LBXWBCSI': 'White blood cell count (SI)', 'LBXHGB': 'Hemoglobin (g/dL)', 'LBXPLTSI': 'Platelet count (%) SI', 'RXD295': 'Number of prescription medicines taken', 'TELOMEAN': 'Mean T/S ratio', 'TELOSTD': 'Asso. Std. Dev. of Mean T/S ratio', 'Nr_of_drugs': '/', 'fastingwindow': '/', 'BPQ020': 'Ever told you had high blood pressure', 'BPQ040A': 'Taking prescription for hypertension', 'BPQ080': 'Doctor told you - high cholesterol level', 'BPXPULS': 'Pulse regular or irregular?', 'RIAGENDR': 'Gender', 'RIDRETH1': 'Race/Ethnicity - Recode', 'DMDBORN': 'Country of Birth - Recode', 'DMDEDUC2': 'Education Level - Adults 20+', 'DMDMARTL': 'Marital Status', 'INDHHINC': 'Annual Household Income', 'DIQ050': 'Taking insulin now', 'DIQ070': 'Take diabetic pills to lower blood sugar', 'DIQ080': 'Diabetes affected eyes/had retinopathy', 'DIQ140': 'Pain in either leg while walking', 'HID010': 'Covered by health insurance', 'HID030A': 'Covered by private insurance', 'HID030B': 'Covered by Medicare', 'HID030D': 'Covered by other government insurance', 'HID030C': 'Covered by Medicaid/CHIP', 'HID030E': 'Covered by single service plan', 'HID040': 'Dental coverage included', 'HUQ010': 'General health condition', 'KIQ020': 'Ever told you had weak/failing kidneys', 'PAQ180': 'Avg level of physical activity each day', 'PAD200': 'Vigorous activity over past 30 days', 'PAD320': 'Moderate activity over past 30 days', 'PAD440': 'Muscle strengthening activities', 'PAQ480': 'Daily hours of TV, video or computer use', 'PAQ500': 'Activity comparison last mo - last yr', 'PAQ520': 'Compare activity w/others same age', 'RXD030': 'Taken prescription medicine/past month', 'SMQ040': 'Do you now smoke cigarettes', 'SMD410': 'Does anyone smoke in the home', 'VIQ030': 'General condition of eyesight', 'VIQ070': 'Ever had a cataract operation', 'WHQ030': 'How do you consider your weight', 'WHQ040': 'Like to weigh more, less or same', 'WHQ070': 'Tried to lose weight in past year', 'MCQ010': 'Ever been told you have asthma', 'MCQ092': 'Ever receive blood transfusion', 'MCQ160A': 'Doctor ever said you had arthritis', 'MCQ160B': 'Ever told had congestive heart failure', 'MCQ160C': 'Ever told you had coronary heart disease', 'MCQ160D': 'Ever told you had coronary heart disease', 'MCQ160E': 'Ever told you had heart attack', 'MCQ160F': 'Ever told you had a stroke', 'MCQ160J': 'Doctor said you were overweight', 'MCQ160K': 'Ever told you had chronic bronchitis', 'MCQ160L': 'Ever told you had any liver condition', 'MCQ220': 'Ever told you had cancer or malignancy', 'MCQ250A': 'Blood relatives have diabetes', 'MCQ250B': \"Blood relatives have Alzheimer's\", 'MCQ250C': 'Blood relatives have asthma', 'MCQ250E': 'Blood relatives have osteoporosis', 'MCQ250F': 'Blood relatives w/hypertension/stroke', 'MCQ250G': 'Blood relatives have angina'}\n"
     ]
    }
   ],
   "source": [
    "# creating dictionary for column encoding\n",
    "codes = pd.read_excel('Hackathon_Autumn2020_Challenge/challenge_dataset/NHANES_variables_lookup.xlsx', index_col=0)\n",
    "#print(codes)\n",
    "aux=codes[codes.columns[0]]\n",
    "codes_dict = aux[0:-1].to_dict()\n",
    "print(codes_dict)"
   ]
  },
  {
   "cell_type": "code",
   "execution_count": 24,
   "metadata": {},
   "outputs": [],
   "source": [
    "# mortality (last column) is the target, all the other columns are features\n",
    "features = dataset_train.columns[0:-1]\n",
    "targets = dataset_train.columns[-1]"
   ]
  },
  {
   "cell_type": "code",
   "execution_count": 25,
   "metadata": {
    "scrolled": true
   },
   "outputs": [
    {
     "data": {
      "text/plain": [
       "Text(0, 0.5, 'correlation with mortstat')"
      ]
     },
     "execution_count": 25,
     "metadata": {},
     "output_type": "execute_result"
    },
    {
     "data": {
      "image/png": "[encoded data removed]",
      "text/plain": [
       "<Figure size 432x288 with 1 Axes>"
      ]
     },
     "metadata": {
      "needs_background": "light"
     },
     "output_type": "display_data"
    }
   ],
   "source": [
    "# Checking the correlation between all features and mortality\n",
    "a = dataset_train[features].corrwith(dataset_train[targets], method='kendall')\n",
    "plt.scatter(range(a.size),a)\n",
    "plt.xlabel('column number')\n",
    "plt.ylabel('correlation with mortstat')"
   ]
  },
  {
   "cell_type": "code",
   "execution_count": 26,
   "metadata": {},
   "outputs": [
    {
     "name": "stdout",
     "output_type": "stream",
     "text": [
      "RIDAGEMN    0.364231\n",
      "URXUMASI    0.251613\n",
      "HID030A     0.254850\n",
      "HID030B    -0.369297\n",
      "PAQ180     -0.269783\n",
      "PAD200      0.250774\n",
      "PAQ480      0.280058\n",
      "VIQ070     -0.295825\n",
      "dtype: float64\n"
     ]
    }
   ],
   "source": [
    "# choosing the features with a correlation higher than 25% to be relevant\n",
    "new_features = features[abs(a)>0.25]\n",
    "#print(new_features)\n",
    "print(a[new_features])"
   ]
  },
  {
   "cell_type": "code",
   "execution_count": 27,
   "metadata": {},
   "outputs": [
    {
     "data": {
      "text/html": [
       "<div>\n",
       "<style scoped>\n",
       "    .dataframe tbody tr th:only-of-type {\n",
       "        vertical-align: middle;\n",
       "    }\n",
       "\n",
       "    .dataframe tbody tr th {\n",
       "        vertical-align: top;\n",
       "    }\n",
       "\n",
       "    .dataframe thead th {\n",
       "        text-align: right;\n",
       "    }\n",
       "</style>\n",
       "<table border=\"1\" class=\"dataframe\">\n",
       "  <thead>\n",
       "    <tr style=\"text-align: right;\">\n",
       "      <th></th>\n",
       "      <th>RIDAGEMN</th>\n",
       "      <th>URXUMASI</th>\n",
       "      <th>HID030A</th>\n",
       "      <th>HID030B</th>\n",
       "      <th>PAQ180</th>\n",
       "      <th>PAD200</th>\n",
       "      <th>PAQ480</th>\n",
       "      <th>VIQ070</th>\n",
       "      <th>mortstat</th>\n",
       "    </tr>\n",
       "  </thead>\n",
       "  <tbody>\n",
       "    <tr>\n",
       "      <th>count</th>\n",
       "      <td>791.000000</td>\n",
       "      <td>791.000000</td>\n",
       "      <td>791.000000</td>\n",
       "      <td>791.000000</td>\n",
       "      <td>791.000000</td>\n",
       "      <td>791.000000</td>\n",
       "      <td>791.000000</td>\n",
       "      <td>791.000000</td>\n",
       "      <td>791.000000</td>\n",
       "    </tr>\n",
       "    <tr>\n",
       "      <th>mean</th>\n",
       "      <td>773.538559</td>\n",
       "      <td>317.345420</td>\n",
       "      <td>1.508217</td>\n",
       "      <td>1.530973</td>\n",
       "      <td>1.721871</td>\n",
       "      <td>2.017699</td>\n",
       "      <td>2.921618</td>\n",
       "      <td>1.825537</td>\n",
       "      <td>0.539823</td>\n",
       "    </tr>\n",
       "    <tr>\n",
       "      <th>std</th>\n",
       "      <td>134.344214</td>\n",
       "      <td>1242.240425</td>\n",
       "      <td>0.825002</td>\n",
       "      <td>0.780288</td>\n",
       "      <td>0.757086</td>\n",
       "      <td>0.562265</td>\n",
       "      <td>1.637047</td>\n",
       "      <td>0.569170</td>\n",
       "      <td>0.498727</td>\n",
       "    </tr>\n",
       "    <tr>\n",
       "      <th>min</th>\n",
       "      <td>480.000000</td>\n",
       "      <td>0.200000</td>\n",
       "      <td>1.000000</td>\n",
       "      <td>1.000000</td>\n",
       "      <td>1.000000</td>\n",
       "      <td>1.000000</td>\n",
       "      <td>0.000000</td>\n",
       "      <td>1.000000</td>\n",
       "      <td>0.000000</td>\n",
       "    </tr>\n",
       "    <tr>\n",
       "      <th>25%</th>\n",
       "      <td>679.000000</td>\n",
       "      <td>7.300000</td>\n",
       "      <td>1.000000</td>\n",
       "      <td>1.000000</td>\n",
       "      <td>1.000000</td>\n",
       "      <td>2.000000</td>\n",
       "      <td>2.000000</td>\n",
       "      <td>2.000000</td>\n",
       "      <td>0.000000</td>\n",
       "    </tr>\n",
       "    <tr>\n",
       "      <th>50%</th>\n",
       "      <td>784.000000</td>\n",
       "      <td>23.300000</td>\n",
       "      <td>1.000000</td>\n",
       "      <td>1.000000</td>\n",
       "      <td>2.000000</td>\n",
       "      <td>2.000000</td>\n",
       "      <td>3.000000</td>\n",
       "      <td>2.000000</td>\n",
       "      <td>1.000000</td>\n",
       "    </tr>\n",
       "    <tr>\n",
       "      <th>75%</th>\n",
       "      <td>875.000000</td>\n",
       "      <td>133.900000</td>\n",
       "      <td>2.000000</td>\n",
       "      <td>2.000000</td>\n",
       "      <td>2.000000</td>\n",
       "      <td>2.000000</td>\n",
       "      <td>5.000000</td>\n",
       "      <td>2.000000</td>\n",
       "      <td>1.000000</td>\n",
       "    </tr>\n",
       "    <tr>\n",
       "      <th>max</th>\n",
       "      <td>1016.000000</td>\n",
       "      <td>16920.000000</td>\n",
       "      <td>9.000000</td>\n",
       "      <td>9.000000</td>\n",
       "      <td>7.000000</td>\n",
       "      <td>7.000000</td>\n",
       "      <td>6.000000</td>\n",
       "      <td>9.000000</td>\n",
       "      <td>1.000000</td>\n",
       "    </tr>\n",
       "  </tbody>\n",
       "</table>\n",
       "</div>"
      ],
      "text/plain": [
       "          RIDAGEMN      URXUMASI     HID030A     HID030B      PAQ180  \\\n",
       "count   791.000000    791.000000  791.000000  791.000000  791.000000   \n",
       "mean    773.538559    317.345420    1.508217    1.530973    1.721871   \n",
       "std     134.344214   1242.240425    0.825002    0.780288    0.757086   \n",
       "min     480.000000      0.200000    1.000000    1.000000    1.000000   \n",
       "25%     679.000000      7.300000    1.000000    1.000000    1.000000   \n",
       "50%     784.000000     23.300000    1.000000    1.000000    2.000000   \n",
       "75%     875.000000    133.900000    2.000000    2.000000    2.000000   \n",
       "max    1016.000000  16920.000000    9.000000    9.000000    7.000000   \n",
       "\n",
       "           PAD200      PAQ480      VIQ070    mortstat  \n",
       "count  791.000000  791.000000  791.000000  791.000000  \n",
       "mean     2.017699    2.921618    1.825537    0.539823  \n",
       "std      0.562265    1.637047    0.569170    0.498727  \n",
       "min      1.000000    0.000000    1.000000    0.000000  \n",
       "25%      2.000000    2.000000    2.000000    0.000000  \n",
       "50%      2.000000    3.000000    2.000000    1.000000  \n",
       "75%      2.000000    5.000000    2.000000    1.000000  \n",
       "max      7.000000    6.000000    9.000000    1.000000  "
      ]
     },
     "execution_count": 27,
     "metadata": {},
     "output_type": "execute_result"
    }
   ],
   "source": [
    "# having a look at the selected features\n",
    "dataset_train_selected = pd.concat([dataset_train[new_features] , dataset_train[targets]], axis=1)\n",
    "dataset_train_selected.describe()"
   ]
  },
  {
   "cell_type": "code",
   "execution_count": 28,
   "metadata": {},
   "outputs": [
    {
     "data": {
      "text/html": [
       "<div>\n",
       "<style scoped>\n",
       "    .dataframe tbody tr th:only-of-type {\n",
       "        vertical-align: middle;\n",
       "    }\n",
       "\n",
       "    .dataframe tbody tr th {\n",
       "        vertical-align: top;\n",
       "    }\n",
       "\n",
       "    .dataframe thead th {\n",
       "        text-align: right;\n",
       "    }\n",
       "</style>\n",
       "<table border=\"1\" class=\"dataframe\">\n",
       "  <thead>\n",
       "    <tr style=\"text-align: right;\">\n",
       "      <th></th>\n",
       "      <th>RIDAGEMN</th>\n",
       "      <th>URXUMASI</th>\n",
       "      <th>HID030A</th>\n",
       "      <th>HID030B</th>\n",
       "      <th>PAQ180</th>\n",
       "      <th>PAD200</th>\n",
       "      <th>PAQ480</th>\n",
       "      <th>VIQ070</th>\n",
       "      <th>mortstat</th>\n",
       "    </tr>\n",
       "  </thead>\n",
       "  <tbody>\n",
       "    <tr>\n",
       "      <th>count</th>\n",
       "      <td>743.000000</td>\n",
       "      <td>743.000000</td>\n",
       "      <td>743.000000</td>\n",
       "      <td>743.000000</td>\n",
       "      <td>743.000000</td>\n",
       "      <td>743.000000</td>\n",
       "      <td>743.000000</td>\n",
       "      <td>743.000000</td>\n",
       "      <td>743.000000</td>\n",
       "    </tr>\n",
       "    <tr>\n",
       "      <th>mean</th>\n",
       "      <td>776.458950</td>\n",
       "      <td>171.420372</td>\n",
       "      <td>1.452221</td>\n",
       "      <td>1.471063</td>\n",
       "      <td>1.646030</td>\n",
       "      <td>2.014805</td>\n",
       "      <td>2.927322</td>\n",
       "      <td>1.795424</td>\n",
       "      <td>0.537012</td>\n",
       "    </tr>\n",
       "    <tr>\n",
       "      <th>std</th>\n",
       "      <td>132.689038</td>\n",
       "      <td>429.212966</td>\n",
       "      <td>0.498047</td>\n",
       "      <td>0.499498</td>\n",
       "      <td>0.618565</td>\n",
       "      <td>0.538087</td>\n",
       "      <td>1.641804</td>\n",
       "      <td>0.403663</td>\n",
       "      <td>0.498964</td>\n",
       "    </tr>\n",
       "    <tr>\n",
       "      <th>min</th>\n",
       "      <td>480.000000</td>\n",
       "      <td>0.200000</td>\n",
       "      <td>1.000000</td>\n",
       "      <td>1.000000</td>\n",
       "      <td>1.000000</td>\n",
       "      <td>1.000000</td>\n",
       "      <td>0.000000</td>\n",
       "      <td>1.000000</td>\n",
       "      <td>0.000000</td>\n",
       "    </tr>\n",
       "    <tr>\n",
       "      <th>25%</th>\n",
       "      <td>686.000000</td>\n",
       "      <td>7.300000</td>\n",
       "      <td>1.000000</td>\n",
       "      <td>1.000000</td>\n",
       "      <td>1.000000</td>\n",
       "      <td>2.000000</td>\n",
       "      <td>2.000000</td>\n",
       "      <td>2.000000</td>\n",
       "      <td>0.000000</td>\n",
       "    </tr>\n",
       "    <tr>\n",
       "      <th>50%</th>\n",
       "      <td>785.000000</td>\n",
       "      <td>21.900000</td>\n",
       "      <td>1.000000</td>\n",
       "      <td>1.000000</td>\n",
       "      <td>2.000000</td>\n",
       "      <td>2.000000</td>\n",
       "      <td>3.000000</td>\n",
       "      <td>2.000000</td>\n",
       "      <td>1.000000</td>\n",
       "    </tr>\n",
       "    <tr>\n",
       "      <th>75%</th>\n",
       "      <td>877.000000</td>\n",
       "      <td>118.028600</td>\n",
       "      <td>2.000000</td>\n",
       "      <td>2.000000</td>\n",
       "      <td>2.000000</td>\n",
       "      <td>2.000000</td>\n",
       "      <td>5.000000</td>\n",
       "      <td>2.000000</td>\n",
       "      <td>1.000000</td>\n",
       "    </tr>\n",
       "    <tr>\n",
       "      <th>max</th>\n",
       "      <td>1016.000000</td>\n",
       "      <td>3860.000000</td>\n",
       "      <td>2.000000</td>\n",
       "      <td>2.000000</td>\n",
       "      <td>3.000000</td>\n",
       "      <td>3.000000</td>\n",
       "      <td>6.000000</td>\n",
       "      <td>2.000000</td>\n",
       "      <td>1.000000</td>\n",
       "    </tr>\n",
       "  </tbody>\n",
       "</table>\n",
       "</div>"
      ],
      "text/plain": [
       "          RIDAGEMN     URXUMASI     HID030A     HID030B      PAQ180  \\\n",
       "count   743.000000   743.000000  743.000000  743.000000  743.000000   \n",
       "mean    776.458950   171.420372    1.452221    1.471063    1.646030   \n",
       "std     132.689038   429.212966    0.498047    0.499498    0.618565   \n",
       "min     480.000000     0.200000    1.000000    1.000000    1.000000   \n",
       "25%     686.000000     7.300000    1.000000    1.000000    1.000000   \n",
       "50%     785.000000    21.900000    1.000000    1.000000    2.000000   \n",
       "75%     877.000000   118.028600    2.000000    2.000000    2.000000   \n",
       "max    1016.000000  3860.000000    2.000000    2.000000    3.000000   \n",
       "\n",
       "           PAD200      PAQ480      VIQ070    mortstat  \n",
       "count  743.000000  743.000000  743.000000  743.000000  \n",
       "mean     2.014805    2.927322    1.795424    0.537012  \n",
       "std      0.538087    1.641804    0.403663    0.498964  \n",
       "min      1.000000    0.000000    1.000000    0.000000  \n",
       "25%      2.000000    2.000000    2.000000    0.000000  \n",
       "50%      2.000000    3.000000    2.000000    1.000000  \n",
       "75%      2.000000    5.000000    2.000000    1.000000  \n",
       "max      3.000000    6.000000    2.000000    1.000000  "
      ]
     },
     "execution_count": 28,
     "metadata": {},
     "output_type": "execute_result"
    }
   ],
   "source": [
    "dataset_train_clean = dataset_train_selected[(np.abs(stats.zscore(dataset_train_selected)) < 3).all(axis=1)]\n",
    "dataset_train_clean.describe()"
   ]
  },
  {
   "cell_type": "code",
   "execution_count": 29,
   "metadata": {},
   "outputs": [],
   "source": [
    "# putting data in linear system format\n",
    "X = dataset_train[new_features].values\n",
    "y = dataset_train[targets].values"
   ]
  },
  {
   "cell_type": "code",
   "execution_count": 30,
   "metadata": {},
   "outputs": [],
   "source": [
    "# splitting our dataset into training and validation sets\n",
    "X_train, X_val, y_train, y_val = train_test_split(X, y, test_size=0.20, random_state=42)"
   ]
  },
  {
   "cell_type": "code",
   "execution_count": 31,
   "metadata": {},
   "outputs": [],
   "source": [
    "# testing dataset\n",
    "X_test = dataset_unseen[new_features].values\n",
    "y_test = dataset_unseen[targets].values"
   ]
  },
  {
   "cell_type": "code",
   "execution_count": 32,
   "metadata": {},
   "outputs": [],
   "source": [
    "# Normalisation\n",
    "scaler = QuantileTransformer(n_quantiles=100)\n",
    "scaler.fit(X_train)\n",
    "\n",
    "X_train_normalized = scaler.transform(X_train)\n",
    "X_val_normalized = scaler.transform(X_val)\n",
    "X_test_normalized = scaler.transform(X_test)"
   ]
  },
  {
   "cell_type": "code",
   "execution_count": 33,
   "metadata": {},
   "outputs": [
    {
     "data": {
      "text/plain": [
       "LinearSVC(random_state=0)"
      ]
     },
     "execution_count": 33,
     "metadata": {},
     "output_type": "execute_result"
    }
   ],
   "source": [
    "# training model\n",
    "clf = LinearSVC(random_state=0)\n",
    "clf.fit(X_train_normalized, y_train)\n",
    "\n",
    "#clf = RandomizedPCA(svd_solver='randomized', whiten=True)\n",
    "#clf.fit(X_train_normalized, y_train)\n",
    "#X = clf.transform(X_train_normalized)\n",
    "#print(X_train_normalized)\n",
    "#print(X)\n",
    "#print (clf.explained_variance_ratio_ )\n"
   ]
  },
  {
   "cell_type": "code",
   "execution_count": 34,
   "metadata": {},
   "outputs": [
    {
     "name": "stdout",
     "output_type": "stream",
     "text": [
      "Model Accuracy: 0.7484276729559748\n"
     ]
    }
   ],
   "source": [
    "# Model evaluation\n",
    "pred = clf.predict(X_val_normalized)\n",
    "acc = accuracy_score(y_val, pred)\n",
    "print(f'Model Accuracy: {acc}')"
   ]
  },
  {
   "cell_type": "code",
   "execution_count": 35,
   "metadata": {},
   "outputs": [
    {
     "name": "stdout",
     "output_type": "stream",
     "text": [
      "Model Final Accuracy: 0.7727272727272727\n"
     ]
    }
   ],
   "source": [
    "test_pred = clf.predict(X_test_normalized)\n",
    "test_acc = accuracy_score(y_test, test_pred)\n",
    "print(f'Model Final Accuracy: {test_acc}')"
   ]
  },
  {
   "cell_type": "code",
   "execution_count": 326,
   "metadata": {},
   "outputs": [],
   "source": [
    "#print(dataset_train.rename(columns=codes_dict).head(3))"
   ]
  },
  {
   "cell_type": "code",
   "execution_count": 36,
   "metadata": {},
   "outputs": [
    {
     "name": "stdout",
     "output_type": "stream",
     "text": [
      "       Age in Months - Recode  Albumin, urine (mg/L) SI  \\\n",
      "10004                     559                      93.0   \n",
      "10101                     821                       3.9   \n",
      "10104                     620                       4.1   \n",
      "10131                     980                      81.1   \n",
      "10249                     692                      82.1   \n",
      "\n",
      "       Covered by private insurance  Covered by Medicare  \\\n",
      "10004                             1                    2   \n",
      "10101                             1                    2   \n",
      "10104                             2                    2   \n",
      "10131                             1                    1   \n",
      "10249                             1                    2   \n",
      "\n",
      "       Avg level of physical activity each day  \\\n",
      "10004                                        2   \n",
      "10101                                        2   \n",
      "10104                                        2   \n",
      "10131                                        1   \n",
      "10249                                        1   \n",
      "\n",
      "       Vigorous activity over past 30 days  \\\n",
      "10004                                    2   \n",
      "10101                                    2   \n",
      "10104                                    2   \n",
      "10131                                    2   \n",
      "10249                                    3   \n",
      "\n",
      "       Daily hours of TV, video or computer use  \\\n",
      "10004                                         3   \n",
      "10101                                         3   \n",
      "10104                                         2   \n",
      "10131                                         1   \n",
      "10249                                         5   \n",
      "\n",
      "       Ever had a cataract operation  mortstat  \n",
      "10004                              2         0  \n",
      "10101                              2         1  \n",
      "10104                              2         0  \n",
      "10131                              2         1  \n",
      "10249                              2         1  \n"
     ]
    }
   ],
   "source": [
    "print(dataset_train_clean.rename(columns=codes_dict).head(5))"
   ]
  },
  {
   "cell_type": "code",
   "execution_count": null,
   "metadata": {},
   "outputs": [],
   "source": []
  }
 ],
 "metadata": {
  "kernelspec": {
   "display_name": "Python 3",
   "language": "python",
   "name": "python3"
  },
  "language_info": {
   "codemirror_mode": {
    "name": "ipython",
    "version": 3
   },
   "file_extension": ".py",
   "mimetype": "text/x-python",
   "name": "python",
   "nbconvert_exporter": "python",
   "pygments_lexer": "ipython3",
   "version": "3.8.3"
  }
 },
 "nbformat": 4,
 "nbformat_minor": 4
}
