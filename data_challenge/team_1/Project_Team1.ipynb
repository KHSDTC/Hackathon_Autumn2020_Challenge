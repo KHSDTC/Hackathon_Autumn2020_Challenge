{
 "cells": [
  {
   "cell_type": "code",
   "execution_count": 157,
   "metadata": {},
   "outputs": [],
   "source": [
    "# Import modules\n",
    "import pandas as pd\n",
    "import numpy as np\n",
    "import matplotlib.pyplot as plt\n",
    "from sklearn.metrics import accuracy_score\n",
    "from sklearn.model_selection import train_test_split\n",
    "from sklearn.preprocessing import MinMaxScaler # can change this\n",
    "#from sklearn.svm import svm # can change this\n",
    "import sklearn.svm as svm\n",
    "import seaborn as sns\n",
    "from scipy import stats"
   ]
  },
  {
   "cell_type": "code",
   "execution_count": 158,
   "metadata": {},
   "outputs": [],
   "source": [
    "# Import training data\n",
    "training_data_name = 'C:/Users/rmi18/Documents/Learning/Hackathon_Autumn2020_Challenge/challenge_dataset/train_data_imputed.csv'\n",
    "training_dataset = pd.read_csv(training_data_name, index_col=0)\n",
    "#print(training_dataset)"
   ]
  },
  {
   "cell_type": "code",
   "execution_count": 159,
   "metadata": {},
   "outputs": [],
   "source": [
    "# Import unseen data\n",
    "unseen_data_name = 'C:/Users/rmi18/Documents/Learning/Hackathon_Autumn2020_Challenge/challenge_dataset/unseen_data_imputed.csv'\n",
    "unseen_dataset = pd.read_csv(unseen_data_name, index_col=0)\n",
    "#print(unseen_dataset)"
   ]
  },
  {
   "cell_type": "code",
   "execution_count": 198,
   "metadata": {},
   "outputs": [
    {
     "data": {
      "text/html": [
       "<div>\n",
       "<style scoped>\n",
       "    .dataframe tbody tr th:only-of-type {\n",
       "        vertical-align: middle;\n",
       "    }\n",
       "\n",
       "    .dataframe tbody tr th {\n",
       "        vertical-align: top;\n",
       "    }\n",
       "\n",
       "    .dataframe thead th {\n",
       "        text-align: right;\n",
       "    }\n",
       "</style>\n",
       "<table border=\"1\" class=\"dataframe\">\n",
       "  <thead>\n",
       "    <tr style=\"text-align: right;\">\n",
       "      <th></th>\n",
       "      <th>BMXWT</th>\n",
       "      <th>BMXBMI</th>\n",
       "      <th>BMXWAIST</th>\n",
       "      <th>ALQ120Q</th>\n",
       "      <th>BPXSAR</th>\n",
       "      <th>BPXDAR</th>\n",
       "      <th>RIDAGEMN</th>\n",
       "      <th>INDFMPIR</th>\n",
       "      <th>DRXTKCAL</th>\n",
       "      <th>DRXTPROT</th>\n",
       "      <th>...</th>\n",
       "      <th>MCQ160K</th>\n",
       "      <th>MCQ160L</th>\n",
       "      <th>MCQ220</th>\n",
       "      <th>MCQ250A</th>\n",
       "      <th>MCQ250B</th>\n",
       "      <th>MCQ250C</th>\n",
       "      <th>MCQ250E</th>\n",
       "      <th>MCQ250F</th>\n",
       "      <th>MCQ250G</th>\n",
       "      <th>mortstat</th>\n",
       "    </tr>\n",
       "  </thead>\n",
       "  <tbody>\n",
       "    <tr>\n",
       "      <th>count</th>\n",
       "      <td>791.000000</td>\n",
       "      <td>791.000000</td>\n",
       "      <td>791.000000</td>\n",
       "      <td>7.910000e+02</td>\n",
       "      <td>791.000000</td>\n",
       "      <td>7.910000e+02</td>\n",
       "      <td>791.000000</td>\n",
       "      <td>7.910000e+02</td>\n",
       "      <td>791.00000</td>\n",
       "      <td>791.000000</td>\n",
       "      <td>...</td>\n",
       "      <td>791.000000</td>\n",
       "      <td>791.000000</td>\n",
       "      <td>791.000000</td>\n",
       "      <td>791.000000</td>\n",
       "      <td>791.000000</td>\n",
       "      <td>791.000000</td>\n",
       "      <td>791.000000</td>\n",
       "      <td>791.000000</td>\n",
       "      <td>791.000000</td>\n",
       "      <td>791.000000</td>\n",
       "    </tr>\n",
       "    <tr>\n",
       "      <th>mean</th>\n",
       "      <td>84.854337</td>\n",
       "      <td>30.882648</td>\n",
       "      <td>106.015940</td>\n",
       "      <td>2.051307e+00</td>\n",
       "      <td>136.805962</td>\n",
       "      <td>6.807206e+01</td>\n",
       "      <td>773.538559</td>\n",
       "      <td>2.128006e+00</td>\n",
       "      <td>1726.92228</td>\n",
       "      <td>74.419772</td>\n",
       "      <td>...</td>\n",
       "      <td>1.950695</td>\n",
       "      <td>1.950695</td>\n",
       "      <td>1.881163</td>\n",
       "      <td>1.448799</td>\n",
       "      <td>2.022756</td>\n",
       "      <td>1.964602</td>\n",
       "      <td>2.242731</td>\n",
       "      <td>2.178255</td>\n",
       "      <td>2.189633</td>\n",
       "      <td>0.539823</td>\n",
       "    </tr>\n",
       "    <tr>\n",
       "      <th>std</th>\n",
       "      <td>19.232612</td>\n",
       "      <td>6.309490</td>\n",
       "      <td>13.831242</td>\n",
       "      <td>6.923166e+00</td>\n",
       "      <td>20.446664</td>\n",
       "      <td>1.580684e+01</td>\n",
       "      <td>134.344214</td>\n",
       "      <td>1.358327e+00</td>\n",
       "      <td>802.12481</td>\n",
       "      <td>37.561909</td>\n",
       "      <td>...</td>\n",
       "      <td>0.434402</td>\n",
       "      <td>0.343248</td>\n",
       "      <td>0.419206</td>\n",
       "      <td>1.290509</td>\n",
       "      <td>0.947742</td>\n",
       "      <td>1.080910</td>\n",
       "      <td>1.523402</td>\n",
       "      <td>1.825927</td>\n",
       "      <td>1.490712</td>\n",
       "      <td>0.498727</td>\n",
       "    </tr>\n",
       "    <tr>\n",
       "      <th>min</th>\n",
       "      <td>38.900000</td>\n",
       "      <td>17.430000</td>\n",
       "      <td>65.900000</td>\n",
       "      <td>5.400000e-79</td>\n",
       "      <td>80.000000</td>\n",
       "      <td>5.400000e-79</td>\n",
       "      <td>480.000000</td>\n",
       "      <td>5.400000e-79</td>\n",
       "      <td>11.78000</td>\n",
       "      <td>0.040000</td>\n",
       "      <td>...</td>\n",
       "      <td>1.000000</td>\n",
       "      <td>1.000000</td>\n",
       "      <td>1.000000</td>\n",
       "      <td>1.000000</td>\n",
       "      <td>1.000000</td>\n",
       "      <td>1.000000</td>\n",
       "      <td>1.000000</td>\n",
       "      <td>1.000000</td>\n",
       "      <td>1.000000</td>\n",
       "      <td>0.000000</td>\n",
       "    </tr>\n",
       "    <tr>\n",
       "      <th>25%</th>\n",
       "      <td>72.150000</td>\n",
       "      <td>26.599200</td>\n",
       "      <td>96.700000</td>\n",
       "      <td>5.400000e-79</td>\n",
       "      <td>123.000000</td>\n",
       "      <td>6.137200e+01</td>\n",
       "      <td>679.000000</td>\n",
       "      <td>1.100000e+00</td>\n",
       "      <td>1207.00000</td>\n",
       "      <td>49.690000</td>\n",
       "      <td>...</td>\n",
       "      <td>2.000000</td>\n",
       "      <td>2.000000</td>\n",
       "      <td>2.000000</td>\n",
       "      <td>1.000000</td>\n",
       "      <td>2.000000</td>\n",
       "      <td>2.000000</td>\n",
       "      <td>2.000000</td>\n",
       "      <td>1.000000</td>\n",
       "      <td>2.000000</td>\n",
       "      <td>0.000000</td>\n",
       "    </tr>\n",
       "    <tr>\n",
       "      <th>50%</th>\n",
       "      <td>81.900000</td>\n",
       "      <td>29.690000</td>\n",
       "      <td>104.600000</td>\n",
       "      <td>1.000000e+00</td>\n",
       "      <td>135.000000</td>\n",
       "      <td>6.900000e+01</td>\n",
       "      <td>784.000000</td>\n",
       "      <td>1.760000e+00</td>\n",
       "      <td>1666.82000</td>\n",
       "      <td>72.370000</td>\n",
       "      <td>...</td>\n",
       "      <td>2.000000</td>\n",
       "      <td>2.000000</td>\n",
       "      <td>2.000000</td>\n",
       "      <td>1.000000</td>\n",
       "      <td>2.000000</td>\n",
       "      <td>2.000000</td>\n",
       "      <td>2.000000</td>\n",
       "      <td>2.000000</td>\n",
       "      <td>2.000000</td>\n",
       "      <td>1.000000</td>\n",
       "    </tr>\n",
       "    <tr>\n",
       "      <th>75%</th>\n",
       "      <td>95.946080</td>\n",
       "      <td>34.403400</td>\n",
       "      <td>114.369400</td>\n",
       "      <td>2.016000e+00</td>\n",
       "      <td>146.000000</td>\n",
       "      <td>7.700000e+01</td>\n",
       "      <td>875.000000</td>\n",
       "      <td>2.775000e+00</td>\n",
       "      <td>2026.81000</td>\n",
       "      <td>87.303500</td>\n",
       "      <td>...</td>\n",
       "      <td>2.000000</td>\n",
       "      <td>2.000000</td>\n",
       "      <td>2.000000</td>\n",
       "      <td>2.000000</td>\n",
       "      <td>2.000000</td>\n",
       "      <td>2.000000</td>\n",
       "      <td>2.000000</td>\n",
       "      <td>2.000000</td>\n",
       "      <td>2.000000</td>\n",
       "      <td>1.000000</td>\n",
       "    </tr>\n",
       "    <tr>\n",
       "      <th>max</th>\n",
       "      <td>191.100000</td>\n",
       "      <td>66.440000</td>\n",
       "      <td>157.700000</td>\n",
       "      <td>1.500000e+02</td>\n",
       "      <td>216.000000</td>\n",
       "      <td>1.110000e+02</td>\n",
       "      <td>1016.000000</td>\n",
       "      <td>5.000000e+00</td>\n",
       "      <td>8450.00000</td>\n",
       "      <td>456.380000</td>\n",
       "      <td>...</td>\n",
       "      <td>9.000000</td>\n",
       "      <td>9.000000</td>\n",
       "      <td>9.000000</td>\n",
       "      <td>9.000000</td>\n",
       "      <td>9.000000</td>\n",
       "      <td>9.000000</td>\n",
       "      <td>9.000000</td>\n",
       "      <td>9.000000</td>\n",
       "      <td>9.000000</td>\n",
       "      <td>1.000000</td>\n",
       "    </tr>\n",
       "  </tbody>\n",
       "</table>\n",
       "<p>8 rows × 110 columns</p>\n",
       "</div>"
      ],
      "text/plain": [
       "            BMXWT      BMXBMI    BMXWAIST       ALQ120Q      BPXSAR  \\\n",
       "count  791.000000  791.000000  791.000000  7.910000e+02  791.000000   \n",
       "mean    84.854337   30.882648  106.015940  2.051307e+00  136.805962   \n",
       "std     19.232612    6.309490   13.831242  6.923166e+00   20.446664   \n",
       "min     38.900000   17.430000   65.900000  5.400000e-79   80.000000   \n",
       "25%     72.150000   26.599200   96.700000  5.400000e-79  123.000000   \n",
       "50%     81.900000   29.690000  104.600000  1.000000e+00  135.000000   \n",
       "75%     95.946080   34.403400  114.369400  2.016000e+00  146.000000   \n",
       "max    191.100000   66.440000  157.700000  1.500000e+02  216.000000   \n",
       "\n",
       "             BPXDAR     RIDAGEMN      INDFMPIR    DRXTKCAL    DRXTPROT  ...  \\\n",
       "count  7.910000e+02   791.000000  7.910000e+02   791.00000  791.000000  ...   \n",
       "mean   6.807206e+01   773.538559  2.128006e+00  1726.92228   74.419772  ...   \n",
       "std    1.580684e+01   134.344214  1.358327e+00   802.12481   37.561909  ...   \n",
       "min    5.400000e-79   480.000000  5.400000e-79    11.78000    0.040000  ...   \n",
       "25%    6.137200e+01   679.000000  1.100000e+00  1207.00000   49.690000  ...   \n",
       "50%    6.900000e+01   784.000000  1.760000e+00  1666.82000   72.370000  ...   \n",
       "75%    7.700000e+01   875.000000  2.775000e+00  2026.81000   87.303500  ...   \n",
       "max    1.110000e+02  1016.000000  5.000000e+00  8450.00000  456.380000  ...   \n",
       "\n",
       "          MCQ160K     MCQ160L      MCQ220     MCQ250A     MCQ250B     MCQ250C  \\\n",
       "count  791.000000  791.000000  791.000000  791.000000  791.000000  791.000000   \n",
       "mean     1.950695    1.950695    1.881163    1.448799    2.022756    1.964602   \n",
       "std      0.434402    0.343248    0.419206    1.290509    0.947742    1.080910   \n",
       "min      1.000000    1.000000    1.000000    1.000000    1.000000    1.000000   \n",
       "25%      2.000000    2.000000    2.000000    1.000000    2.000000    2.000000   \n",
       "50%      2.000000    2.000000    2.000000    1.000000    2.000000    2.000000   \n",
       "75%      2.000000    2.000000    2.000000    2.000000    2.000000    2.000000   \n",
       "max      9.000000    9.000000    9.000000    9.000000    9.000000    9.000000   \n",
       "\n",
       "          MCQ250E     MCQ250F     MCQ250G    mortstat  \n",
       "count  791.000000  791.000000  791.000000  791.000000  \n",
       "mean     2.242731    2.178255    2.189633    0.539823  \n",
       "std      1.523402    1.825927    1.490712    0.498727  \n",
       "min      1.000000    1.000000    1.000000    0.000000  \n",
       "25%      2.000000    1.000000    2.000000    0.000000  \n",
       "50%      2.000000    2.000000    2.000000    1.000000  \n",
       "75%      2.000000    2.000000    2.000000    1.000000  \n",
       "max      9.000000    9.000000    9.000000    1.000000  \n",
       "\n",
       "[8 rows x 110 columns]"
      ]
     },
     "execution_count": 198,
     "metadata": {},
     "output_type": "execute_result"
    }
   ],
   "source": [
    "# Describe the training data\n",
    "training_dataset.describe()"
   ]
  },
  {
   "cell_type": "code",
   "execution_count": 199,
   "metadata": {},
   "outputs": [
    {
     "name": "stdout",
     "output_type": "stream",
     "text": [
      "<class 'pandas.core.frame.DataFrame'>\n",
      "Int64Index: 791 entries, 10004 to 999\n",
      "Columns: 110 entries, BMXWT to mortstat\n",
      "dtypes: float64(51), int64(59)\n",
      "memory usage: 685.9 KB\n"
     ]
    }
   ],
   "source": [
    "# get info\n",
    "training_dataset.info()"
   ]
  },
  {
   "cell_type": "code",
   "execution_count": 200,
   "metadata": {},
   "outputs": [
    {
     "name": "stdout",
     "output_type": "stream",
     "text": [
      "<class 'pandas.core.frame.DataFrame'>\n",
      "Int64Index: 339 entries, 10004 to 9988\n",
      "Columns: 110 entries, BMXWT to mortstat\n",
      "dtypes: float64(51), int64(59)\n",
      "memory usage: 294.0 KB\n"
     ]
    }
   ],
   "source": [
    "# exclude outliers\n",
    "training_new = training_dataset[(np.abs(stats.zscore(training_dataset)) < 3).all(axis=1)]\n",
    "training_new.info()"
   ]
  },
  {
   "cell_type": "code",
   "execution_count": 201,
   "metadata": {},
   "outputs": [
    {
     "data": {
      "text/html": [
       "<div>\n",
       "<style scoped>\n",
       "    .dataframe tbody tr th:only-of-type {\n",
       "        vertical-align: middle;\n",
       "    }\n",
       "\n",
       "    .dataframe tbody tr th {\n",
       "        vertical-align: top;\n",
       "    }\n",
       "\n",
       "    .dataframe thead th {\n",
       "        text-align: right;\n",
       "    }\n",
       "</style>\n",
       "<table border=\"1\" class=\"dataframe\">\n",
       "  <thead>\n",
       "    <tr style=\"text-align: right;\">\n",
       "      <th></th>\n",
       "      <th>BMXWT</th>\n",
       "      <th>BMXBMI</th>\n",
       "      <th>BMXWAIST</th>\n",
       "      <th>ALQ120Q</th>\n",
       "      <th>BPXSAR</th>\n",
       "      <th>BPXDAR</th>\n",
       "      <th>RIDAGEMN</th>\n",
       "      <th>INDFMPIR</th>\n",
       "      <th>DRXTKCAL</th>\n",
       "      <th>DRXTPROT</th>\n",
       "      <th>...</th>\n",
       "      <th>MCQ160J</th>\n",
       "      <th>MCQ160K</th>\n",
       "      <th>MCQ160L</th>\n",
       "      <th>MCQ220</th>\n",
       "      <th>MCQ250A</th>\n",
       "      <th>MCQ250B</th>\n",
       "      <th>MCQ250C</th>\n",
       "      <th>MCQ250E</th>\n",
       "      <th>MCQ250F</th>\n",
       "      <th>MCQ250G</th>\n",
       "    </tr>\n",
       "    <tr>\n",
       "      <th>mortstat</th>\n",
       "      <th></th>\n",
       "      <th></th>\n",
       "      <th></th>\n",
       "      <th></th>\n",
       "      <th></th>\n",
       "      <th></th>\n",
       "      <th></th>\n",
       "      <th></th>\n",
       "      <th></th>\n",
       "      <th></th>\n",
       "      <th></th>\n",
       "      <th></th>\n",
       "      <th></th>\n",
       "      <th></th>\n",
       "      <th></th>\n",
       "      <th></th>\n",
       "      <th></th>\n",
       "      <th></th>\n",
       "      <th></th>\n",
       "      <th></th>\n",
       "      <th></th>\n",
       "    </tr>\n",
       "  </thead>\n",
       "  <tbody>\n",
       "    <tr>\n",
       "      <th>0</th>\n",
       "      <td>85.680156</td>\n",
       "      <td>31.063372</td>\n",
       "      <td>104.928935</td>\n",
       "      <td>2.392516</td>\n",
       "      <td>132.880066</td>\n",
       "      <td>71.320209</td>\n",
       "      <td>709.692308</td>\n",
       "      <td>2.346120</td>\n",
       "      <td>1800.357572</td>\n",
       "      <td>77.268724</td>\n",
       "      <td>...</td>\n",
       "      <td>1.395604</td>\n",
       "      <td>1.939560</td>\n",
       "      <td>1.934066</td>\n",
       "      <td>1.945055</td>\n",
       "      <td>1.409341</td>\n",
       "      <td>2.008242</td>\n",
       "      <td>1.895604</td>\n",
       "      <td>2.148352</td>\n",
       "      <td>1.972527</td>\n",
       "      <td>2.054945</td>\n",
       "    </tr>\n",
       "    <tr>\n",
       "      <th>1</th>\n",
       "      <td>84.150360</td>\n",
       "      <td>30.728588</td>\n",
       "      <td>106.942567</td>\n",
       "      <td>1.760440</td>\n",
       "      <td>140.152628</td>\n",
       "      <td>65.303148</td>\n",
       "      <td>827.964871</td>\n",
       "      <td>1.942073</td>\n",
       "      <td>1664.321702</td>\n",
       "      <td>71.991157</td>\n",
       "      <td>...</td>\n",
       "      <td>1.482436</td>\n",
       "      <td>1.960187</td>\n",
       "      <td>1.964871</td>\n",
       "      <td>1.826698</td>\n",
       "      <td>1.482436</td>\n",
       "      <td>2.035129</td>\n",
       "      <td>2.023419</td>\n",
       "      <td>2.323185</td>\n",
       "      <td>2.353630</td>\n",
       "      <td>2.304450</td>\n",
       "    </tr>\n",
       "  </tbody>\n",
       "</table>\n",
       "<p>2 rows × 109 columns</p>\n",
       "</div>"
      ],
      "text/plain": [
       "              BMXWT     BMXBMI    BMXWAIST   ALQ120Q      BPXSAR     BPXDAR  \\\n",
       "mortstat                                                                      \n",
       "0         85.680156  31.063372  104.928935  2.392516  132.880066  71.320209   \n",
       "1         84.150360  30.728588  106.942567  1.760440  140.152628  65.303148   \n",
       "\n",
       "            RIDAGEMN  INDFMPIR     DRXTKCAL   DRXTPROT  ...   MCQ160J  \\\n",
       "mortstat                                                ...             \n",
       "0         709.692308  2.346120  1800.357572  77.268724  ...  1.395604   \n",
       "1         827.964871  1.942073  1664.321702  71.991157  ...  1.482436   \n",
       "\n",
       "           MCQ160K   MCQ160L    MCQ220   MCQ250A   MCQ250B   MCQ250C  \\\n",
       "mortstat                                                               \n",
       "0         1.939560  1.934066  1.945055  1.409341  2.008242  1.895604   \n",
       "1         1.960187  1.964871  1.826698  1.482436  2.035129  2.023419   \n",
       "\n",
       "           MCQ250E   MCQ250F   MCQ250G  \n",
       "mortstat                                \n",
       "0         2.148352  1.972527  2.054945  \n",
       "1         2.323185  2.353630  2.304450  \n",
       "\n",
       "[2 rows x 109 columns]"
      ]
     },
     "execution_count": 201,
     "metadata": {},
     "output_type": "execute_result"
    }
   ],
   "source": [
    "training_dataset.groupby('mortstat').mean()\n",
    "#training_new.groupby('mortstat').mean()"
   ]
  },
  {
   "cell_type": "code",
   "execution_count": 202,
   "metadata": {},
   "outputs": [],
   "source": [
    "df1 = training_dataset[training_dataset['mortstat'] == 1] # deceased\n",
    "df2 = training_dataset[training_dataset['mortstat'] == 0] # alive"
   ]
  },
  {
   "cell_type": "code",
   "execution_count": 203,
   "metadata": {},
   "outputs": [
    {
     "name": "stdout",
     "output_type": "stream",
     "text": [
      "[2.65119963e-01 4.57356247e-01 4.11979413e-02 2.00810766e-01\n",
      " 5.14001162e-07 7.45146122e-08 1.31027098e-38 2.80264976e-05\n",
      " 1.73442221e-02 4.88290564e-02 2.68067674e-02 5.83245758e-02\n",
      " 1.95744776e-01 8.41598402e-02 2.27342796e-02 3.93266360e-01\n",
      " 7.63562131e-02 5.34089816e-01 3.98825978e-01 1.70024732e-02\n",
      " 8.16515575e-01 1.23108528e-01 5.84617190e-01 1.32272242e-02\n",
      " 8.16941265e-01 3.77694253e-01 1.73289498e-02 5.49111789e-01\n",
      " 7.26526275e-01 4.85809799e-01 9.53293808e-07 5.86126197e-08\n",
      " 3.39151810e-01 2.23241410e-01 3.91807875e-01 9.31967037e-02\n",
      " 6.31778556e-01 7.81846032e-04 2.38961444e-01 2.60924193e-03\n",
      " 1.48168731e-02 8.50244237e-01 8.11106715e-01 1.95068174e-08\n",
      " 4.99623639e-02 4.06788513e-01 2.90303367e-03 9.80951708e-01\n",
      " 5.56199080e-09 7.04476152e-08 1.26419088e-02 5.04122462e-09\n",
      " 1.19255716e-02 4.04072562e-02 1.95852869e-01 9.67341148e-01\n",
      " 5.15578482e-03 4.30623318e-01 1.61250217e-02 3.60622768e-05\n",
      " 4.00488495e-04 3.65093512e-01 3.15918265e-01 2.00893014e-04\n",
      " 7.97694319e-02 3.86587529e-01 3.67274517e-01 7.77015603e-03\n",
      " 2.76366980e-07 2.04448723e-10 4.95292639e-01 9.25865790e-01\n",
      " 1.47438547e-01 9.38305530e-04 2.03303993e-05 5.39013350e-03\n",
      " 1.01038802e-11 3.46840580e-13 6.85620211e-13 1.55000788e-05\n",
      " 3.54680383e-19 2.17896123e-01 1.30650863e-01 8.99202750e-01\n",
      " 7.16510375e-01 8.69350025e-02 1.05108487e-06 6.17282524e-07\n",
      " 4.90141802e-01 2.29725464e-01 1.38786797e-03 8.92433376e-02\n",
      " 6.88222484e-01 6.04473485e-02 8.24482865e-01 3.61653992e-01\n",
      " 1.59795374e-01 5.57291345e-01 1.48256065e-02 3.07765868e-02\n",
      " 5.06006117e-01 2.08582673e-01 7.07465626e-05 4.27561277e-01\n",
      " 6.91132957e-01 9.74337158e-02 1.07718717e-01 3.37958450e-03\n",
      " 1.88719683e-02 0.00000000e+00]\n"
     ]
    }
   ],
   "source": [
    "# run ttest to compare means between deceased/alive for each variable\n",
    "res = stats.ttest_ind(df1, df2, equal_var=True)\n",
    "print(res.pvalue)"
   ]
  },
  {
   "cell_type": "code",
   "execution_count": 204,
   "metadata": {},
   "outputs": [
    {
     "name": "stdout",
     "output_type": "stream",
     "text": [
      "<class 'pandas.core.frame.DataFrame'>\n",
      "Int64Index: 427 entries, 10101 to 999\n",
      "Data columns (total 51 columns):\n",
      "BMXWAIST         427 non-null float64\n",
      "BPXSAR           427 non-null float64\n",
      "BPXDAR           427 non-null float64\n",
      "RIDAGEMN         427 non-null int64\n",
      "INDFMPIR         427 non-null float64\n",
      "DRXTKCAL         427 non-null float64\n",
      "DRXTPROT         427 non-null float64\n",
      "DRXTCARB         427 non-null float64\n",
      "DRXTPFAT         427 non-null float64\n",
      "DRXTFOLA         427 non-null float64\n",
      "DRXTMAGN         427 non-null float64\n",
      "DRXTCAFF         427 non-null float64\n",
      "LBXCPSI          427 non-null float64\n",
      "LBXIN            427 non-null float64\n",
      "URXUMASI         427 non-null float64\n",
      "LBXSATSI         427 non-null float64\n",
      "LBXSAPSI         427 non-null float64\n",
      "LBXT4            427 non-null float64\n",
      "LBXTSH           427 non-null float64\n",
      "LBXHGB           427 non-null float64\n",
      "RXD295           427 non-null float64\n",
      "TELOMEAN         427 non-null float64\n",
      "TELOSTD          427 non-null float64\n",
      "Nr_of_drugs      427 non-null int64\n",
      "fastingwindow    427 non-null float64\n",
      "BPQ020           427 non-null int64\n",
      "BPXPULS          427 non-null int64\n",
      "RIDRETH1         427 non-null int64\n",
      "DMDBORN          427 non-null int64\n",
      "DMDEDUC2         427 non-null int64\n",
      "DIQ050           427 non-null int64\n",
      "HID010           427 non-null int64\n",
      "HID030A          427 non-null int64\n",
      "HID030B          427 non-null int64\n",
      "HID040           427 non-null int64\n",
      "HUQ010           427 non-null int64\n",
      "KIQ020           427 non-null int64\n",
      "PAQ180           427 non-null int64\n",
      "PAD200           427 non-null int64\n",
      "PAD320           427 non-null int64\n",
      "PAD440           427 non-null int64\n",
      "PAQ480           427 non-null int64\n",
      "VIQ030           427 non-null int64\n",
      "VIQ070           427 non-null int64\n",
      "WHQ070           427 non-null int64\n",
      "MCQ160F          427 non-null int64\n",
      "MCQ160J          427 non-null int64\n",
      "MCQ220           427 non-null int64\n",
      "MCQ250F          427 non-null int64\n",
      "MCQ250G          427 non-null int64\n",
      "mortstat         427 non-null int64\n",
      "dtypes: float64(23), int64(28)\n",
      "memory usage: 173.5 KB\n"
     ]
    }
   ],
   "source": [
    "# use pvalue to subselect variables with statistically different means (p < 0.05)\n",
    "df1_sub = df1.loc[:,res.pvalue < 0.05]\n",
    "training_sub = training_dataset.loc[:,res.pvalue < 0.05]\n",
    "#training_sub = training_new.loc[:,res.pvalue < 0.05]\n",
    "df1_sub.info()"
   ]
  },
  {
   "cell_type": "code",
   "execution_count": 209,
   "metadata": {},
   "outputs": [
    {
     "name": "stdout",
     "output_type": "stream",
     "text": [
      "['BMXWT', 'BMXBMI', 'BMXWAIST', 'ALQ120Q', 'BPXSAR', 'BPXDAR', 'RIDAGEMN', 'INDFMPIR', 'DRXTKCAL', 'DRXTPROT', 'DRXTCARB', 'DRXTTFAT', 'DRXTSFAT', 'DRXTMFAT', 'DRXTPFAT', 'DRXTCHOL', 'DRXTFIBE', 'DRXTVB1', 'DRXTVB2', 'DRXTFOLA', 'DRXTVB12', 'DRXTVC', 'DRXTCALC', 'DRXTMAGN', 'DRXTIRON', 'DRXTZINC', 'DRXTCAFF', 'DRXTALCO', 'LBXGH', 'LBXGLU', 'LBXCPSI', 'LBXIN', 'LBXCRP', 'LBXTC', 'LBDHDL', 'LBXTR', 'LBDLDL', 'URXUMASI', 'URXUCR', 'LBXSATSI', 'LBXSAPSI', 'LBXSGTSI', 'LBXSTB', 'LBXT4', 'LBXTSH', 'LBXWBCSI', 'LBXHGB', 'LBXPLTSI', 'RXD295', 'TELOMEAN', 'TELOSTD', 'Nr_of_drugs', 'fastingwindow', 'BPQ020', 'BPQ040A', 'BPQ080', 'BPXPULS', 'RIAGENDR', 'RIDRETH1', 'DMDBORN', 'DMDEDUC2', 'DMDMARTL', 'INDHHINC', 'DIQ050', 'DIQ070', 'DIQ080', 'DIQ140', 'HID010', 'HID030A', 'HID030B', 'HID030D', 'HID030C', 'HID030E', 'HID040', 'HUQ010', 'KIQ020', 'PAQ180', 'PAD200', 'PAD320', 'PAD440', 'PAQ480', 'PAQ500', 'PAQ520', 'RXD030', 'SMQ040', 'SMD410', 'VIQ030', 'VIQ070', 'WHQ030', 'WHQ040', 'WHQ070', 'MCQ010', 'MCQ092', 'MCQ160A', 'MCQ160B', 'MCQ160C', 'MCQ160D', 'MCQ160E', 'MCQ160F', 'MCQ160J', 'MCQ160K', 'MCQ160L', 'MCQ220', 'MCQ250A', 'MCQ250B', 'MCQ250C', 'MCQ250E', 'MCQ250F', 'MCQ250G']\n",
      "mortstat\n"
     ]
    }
   ],
   "source": [
    "# Get features and target\n",
    "tmp = list(df1.columns)\n",
    "#tmp = list(df1_sub.columns) #-- uncomment to only use features which have statistically different means between two groups\n",
    "targets = tmp.pop(-1)\n",
    "features = tmp\n",
    "\n",
    "print(features)\n",
    "print(targets)"
   ]
  },
  {
   "cell_type": "code",
   "execution_count": 210,
   "metadata": {},
   "outputs": [],
   "source": [
    "# Convert to numpy arrays\n",
    "X = training_dataset[features].values\n",
    "Y = training_dataset[targets].values\n",
    "\n",
    "X1 = df1[features].values\n",
    "Y1 = df1[targets].values\n",
    "X2 = df2[features].values\n",
    "Y2 = df2[targets].values\n"
   ]
  },
  {
   "cell_type": "code",
   "execution_count": null,
   "metadata": {},
   "outputs": [],
   "source": []
  },
  {
   "cell_type": "code",
   "execution_count": 211,
   "metadata": {},
   "outputs": [
    {
     "data": {
      "image/png": "[encoded data removed]",
      "text/plain": [
       "<Figure size 2880x1440 with 50 Axes>"
      ]
     },
     "metadata": {},
     "output_type": "display_data"
    },
    {
     "data": {
      "image/png": "[encoded data removed]",
      "text/plain": [
       "<Figure size 2880x1440 with 50 Axes>"
      ]
     },
     "metadata": {},
     "output_type": "display_data"
    }
   ],
   "source": [
    "a = 5\n",
    "b = 10\n",
    "fig, axs = plt.subplots(a, b, gridspec_kw={'hspace': 0.2, 'wspace': 0.2}, figsize=(40,20))\n",
    "num = 0\n",
    "for i in range(a):\n",
    "    for j in range(b):\n",
    "        \n",
    "        ind1 = abs(X1[:,num] - np.mean(X1[:,num])) < 3 * np.std(X1[:,num])\n",
    "        ind2 = abs(X2[:,num] - np.mean(X2[:,num])) < 3 * np.std(X2[:,num])\n",
    "        axs[i,j].hist(X1[ind1, num]) # deceased\n",
    "        axs[i,j].hist(X2[ind2, num], alpha = 0.5) # alive\n",
    "        axs[i,j].get_yaxis().set_ticks([])\n",
    "        axs[i,j].get_xaxis().set_ticks([])\n",
    "        if res.pvalue[num] < 0.05:\n",
    "            axs[i,j].set_title(features[num], color = 'r')\n",
    "        else:\n",
    "            axs[i,j].set_title(features[num], color = 'k')\n",
    "        num = num + 1\n",
    "        \n",
    "\n",
    "fig, axs = plt.subplots(a, b, gridspec_kw={'hspace': 0.2, 'wspace': 0.2}, figsize=(40,20))\n",
    "for i in range(a):\n",
    "    for j in range(b):\n",
    "        \n",
    "        ind1 = abs(X1[:,num] - np.mean(X1[:,num])) < 3 * np.std(X1[:,num])\n",
    "        ind2 = abs(X2[:,num] - np.mean(X2[:,num])) < 3 * np.std(X2[:,num])\n",
    "        axs[i,j].hist(X1[ind1, num]) # deceased\n",
    "        axs[i,j].hist(X2[ind2, num], alpha = 0.5) # alive\n",
    "        axs[i,j].get_yaxis().set_ticks([])\n",
    "        axs[i,j].get_xaxis().set_ticks([])\n",
    "        if res.pvalue[num] < 0.05:\n",
    "            axs[i,j].set_title(features[num], color = 'r')\n",
    "        else:\n",
    "            axs[i,j].set_title(features[num], color = 'k')\n",
    "        num = num + 1\n",
    "        \n"
   ]
  },
  {
   "cell_type": "code",
   "execution_count": 212,
   "metadata": {},
   "outputs": [
    {
     "name": "stdout",
     "output_type": "stream",
     "text": [
      "Features type: <class 'numpy.ndarray'>\n",
      "Target type: <class 'numpy.ndarray'>\n",
      "Features dimensions: (791, 109)\n",
      "Target dimensions: (791,)\n"
     ]
    }
   ],
   "source": [
    "# Print type and shapes\n",
    "print(f'Features type: {type(X)}')\n",
    "print(f'Target type: {type(Y)}')\n",
    "\n",
    "print(f'Features dimensions: {X.shape}')\n",
    "print(f'Target dimensions: {Y.shape}')"
   ]
  },
  {
   "cell_type": "code",
   "execution_count": 213,
   "metadata": {},
   "outputs": [
    {
     "name": "stdout",
     "output_type": "stream",
     "text": [
      "Training set size: 632\n",
      "Validation set size: 159\n"
     ]
    }
   ],
   "source": [
    "# Splitting data into train, validate and test\n",
    "X_train, X_val, y_train, y_val = train_test_split(X, Y, test_size=0.20, random_state=10)\n",
    "\n",
    "print(f'Training set size: {X_train.shape[0]}')\n",
    "print(f'Validation set size: {X_val.shape[0]}')\n",
    "\n",
    "#print(X_train[1:3,1:5])"
   ]
  },
  {
   "cell_type": "code",
   "execution_count": 214,
   "metadata": {},
   "outputs": [],
   "source": [
    "# First, we create an scaler object\n",
    "scaler = MinMaxScaler()\n",
    "\n",
    "# Using the method .fit, our scaler will learn statistics about our training set to perform the scaling.\n",
    "scaler.fit(X_train)\n",
    "\n",
    "# Finally, we scale our data\n",
    "X_train_normalized = scaler.transform(X_train)\n",
    "X_val_normalized = scaler.transform(X_val)\n"
   ]
  },
  {
   "cell_type": "code",
   "execution_count": 215,
   "metadata": {},
   "outputs": [
    {
     "data": {
      "text/plain": [
       "LinearSVC(C=1.0, class_weight=None, dual=True, fit_intercept=True,\n",
       "     intercept_scaling=1, loss='squared_hinge', max_iter=1000,\n",
       "     multi_class='ovr', penalty='l2', random_state=10, tol=1e-10,\n",
       "     verbose=0)"
      ]
     },
     "execution_count": 215,
     "metadata": {},
     "output_type": "execute_result"
    }
   ],
   "source": [
    "# Use linear svc for classification\n",
    "clf = svm.LinearSVC(random_state=10, tol=1e-10, )\n",
    "clf.fit(X_train_normalized, y_train)"
   ]
  },
  {
   "cell_type": "code",
   "execution_count": 216,
   "metadata": {},
   "outputs": [],
   "source": [
    "# Validate model\n",
    "pred = clf.predict(X_val_normalized)"
   ]
  },
  {
   "cell_type": "code",
   "execution_count": 217,
   "metadata": {},
   "outputs": [
    {
     "name": "stdout",
     "output_type": "stream",
     "text": [
      "Model Accuracy: 0.7421383647798742\n"
     ]
    }
   ],
   "source": [
    "# print accuracy \n",
    "acc = accuracy_score(y_val, pred)\n",
    "print(f'Model Accuracy: {acc}')"
   ]
  },
  {
   "cell_type": "code",
   "execution_count": 218,
   "metadata": {},
   "outputs": [
    {
     "name": "stdout",
     "output_type": "stream",
     "text": [
      "Features type: <class 'numpy.ndarray'>\n",
      "Target type: <class 'numpy.ndarray'>\n",
      "Features dimensions: (88, 109)\n",
      "Target dimensions: (88,)\n",
      "Model Accuracy: 0.7159090909090909\n"
     ]
    }
   ],
   "source": [
    "# run model on unseen data\n",
    "\n",
    "# Convert to numpy array\n",
    "Xu = unseen_dataset[features].values\n",
    "Yu = unseen_dataset[targets].values\n",
    "\n",
    "# Print type and shapes\n",
    "print(f'Features type: {type(Xu)}')\n",
    "print(f'Target type: {type(Yu)}')\n",
    "\n",
    "print(f'Features dimensions: {Xu.shape}')\n",
    "print(f'Target dimensions: {Yu.shape}')\n",
    "\n",
    "X_unseen_normalized = scaler.transform(Xu)\n",
    "pred_unseen = clf.predict(X_unseen_normalized)\n",
    "\n",
    "# print accuracy \n",
    "acc = accuracy_score(Yu, pred_unseen)\n",
    "print(f'Model Accuracy: {acc}')"
   ]
  },
  {
   "cell_type": "code",
   "execution_count": 219,
   "metadata": {},
   "outputs": [
    {
     "name": "stdout",
     "output_type": "stream",
     "text": [
      "Model Accuracy (validation set): 0.7358490566037735\n",
      "Model Accuracy (unseen data): 0.7272727272727273\n"
     ]
    },
    {
     "name": "stderr",
     "output_type": "stream",
     "text": [
      "C:\\Users\\rmi18\\AppData\\Local\\Continuum\\anaconda3\\lib\\site-packages\\sklearn\\svm\\base.py:196: FutureWarning: The default value of gamma will change from 'auto' to 'scale' in version 0.22 to account better for unscaled features. Set gamma explicitly to 'auto' or 'scale' to avoid this warning.\n",
      "  \"avoid this warning.\", FutureWarning)\n"
     ]
    }
   ],
   "source": [
    "# Use Nu-support Vector for classification\n",
    "clf2 = svm.NuSVC(random_state=20)\n",
    "clf2.fit(X_train_normalized, y_train)\n",
    "\n",
    "# Validate model\n",
    "pred2 = clf2.predict(X_val_normalized)\n",
    "\n",
    "# print accuracy \n",
    "acc = accuracy_score(y_val, pred2)\n",
    "print(f'Model Accuracy (validation set): {acc}')\n",
    "\n",
    "# run model on unseen data\n",
    "pred_unseen = clf2.predict(X_unseen_normalized)\n",
    "\n",
    "# print accuracy \n",
    "acc = accuracy_score(Yu, pred_unseen)\n",
    "print(f'Model Accuracy (unseen data): {acc}')"
   ]
  },
  {
   "cell_type": "code",
   "execution_count": 220,
   "metadata": {},
   "outputs": [
    {
     "name": "stdout",
     "output_type": "stream",
     "text": [
      "Model Accuracy (validation set): 0.7672955974842768\n",
      "Model Accuracy (unseen data): 0.7272727272727273\n"
     ]
    }
   ],
   "source": [
    "# Use C-Support Vector for classification\n",
    "clf3 = svm.SVC(random_state=30, gamma='scale')\n",
    "clf3.fit(X_train_normalized, y_train)\n",
    "\n",
    "# Validate model\n",
    "pred3 = clf3.predict(X_val_normalized)\n",
    "\n",
    "# print accuracy \n",
    "acc = accuracy_score(y_val, pred3)\n",
    "print(f'Model Accuracy (validation set): {acc}')\n",
    "\n",
    "# run model on unseen data\n",
    "pred_unseen = clf3.predict(X_unseen_normalized)\n",
    "\n",
    "# print accuracy \n",
    "acc = accuracy_score(Yu, pred_unseen)\n",
    "print(f'Model Accuracy (unseen data): {acc}')"
   ]
  },
  {
   "cell_type": "code",
   "execution_count": null,
   "metadata": {},
   "outputs": [],
   "source": []
  }
 ],
 "metadata": {
  "kernelspec": {
   "display_name": "Python 3",
   "language": "python",
   "name": "python3"
  },
  "language_info": {
   "codemirror_mode": {
    "name": "ipython",
    "version": 3
   },
   "file_extension": ".py",
   "mimetype": "text/x-python",
   "name": "python",
   "nbconvert_exporter": "python",
   "pygments_lexer": "ipython3",
   "version": "3.6.8"
  }
 },
 "nbformat": 4,
 "nbformat_minor": 2
}
