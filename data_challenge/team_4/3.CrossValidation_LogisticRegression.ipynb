{
 "cells": [
  {
   "cell_type": "code",
   "execution_count": 10,
   "metadata": {},
   "outputs": [],
   "source": [
    "# visualization\n",
    "import seaborn as sns\n",
    "import matplotlib.pyplot as plt\n",
    "import pandas as pd\n",
    "import numpy as np\n",
    "%matplotlib inline\n",
    "\n",
    "# machine learning\n",
    "from sklearn.metrics import accuracy_score\n",
    "from sklearn.model_selection import train_test_split\n",
    "from sklearn.preprocessing import MinMaxScaler\n",
    "from sklearn.linear_model import LogisticRegression\n",
    "from sklearn.svm import SVC, LinearSVC\n",
    "from sklearn.ensemble import RandomForestClassifier\n",
    "from sklearn.neighbors import KNeighborsClassifier\n",
    "from sklearn.naive_bayes import GaussianNB\n",
    "from sklearn.linear_model import Perceptron\n",
    "from sklearn.linear_model import SGDClassifier\n",
    "from sklearn.tree import DecisionTreeClassifier"
   ]
  },
  {
   "cell_type": "code",
   "execution_count": 11,
   "metadata": {},
   "outputs": [],
   "source": [
    "import warnings\n",
    "warnings.filterwarnings('ignore')"
   ]
  },
  {
   "cell_type": "code",
   "execution_count": 12,
   "metadata": {},
   "outputs": [],
   "source": [
    "dataset_url = 'https://raw.githubusercontent.com/KHSDTC/Hackathon_Autumn2020_Challenge/master/challenge_dataset/train_data_imputed.csv'\n",
    "dataset = pd.read_csv(dataset_url, index_col=0)"
   ]
  },
  {
   "cell_type": "code",
   "execution_count": 13,
   "metadata": {},
   "outputs": [],
   "source": [
    "features =list(dataset.columns)\n",
    "features.remove('mortstat')\n",
    "target= ['mortstat']\n",
    "\n",
    "X = dataset[features]\n",
    "y = dataset[target]\n",
    "\n",
    "# Spliting data\n",
    "X_train, X_val, y_train, y_val = train_test_split(X, y, test_size=0.20, random_state=42)"
   ]
  },
  {
   "cell_type": "code",
   "execution_count": 14,
   "metadata": {},
   "outputs": [
    {
     "name": "stdout",
     "output_type": "stream",
     "text": [
      "Scenario_1 score of the logistic regression:  0.7358490566037735\n"
     ]
    }
   ],
   "source": [
    "from sklearn.linear_model import LogisticRegression\n",
    "\n",
    "# Creating the model:\n",
    "lr = LogisticRegression() \n",
    "\n",
    "# Training the model with the training datas:\n",
    "lr.fit(X_train, y_train)\n",
    "\n",
    "print('Scenario_1 score of the logistic regression: ', lr.score(X_val, y_val))"
   ]
  },
  {
   "cell_type": "code",
   "execution_count": 15,
   "metadata": {},
   "outputs": [
    {
     "name": "stdout",
     "output_type": "stream",
     "text": [
      "best paremeters for logistic regression:  {'C': 1.0, 'penalty': 'l2'}\n",
      "best score for logistic regression after grid search cv: 0.6801835317460319\n"
     ]
    }
   ],
   "source": [
    "from sklearn.model_selection import GridSearchCV\n",
    "\n",
    "grid = {'C': np.logspace(-3,3,7), 'penalty': ['l1', 'l2']}\n",
    "# C and penalty are logistic regression regularization parameters\n",
    "# If C is too small model is underfitted, if C is too big model is overfitted.\n",
    "# l1 and l2 are regularization loss functions (l1=lasso, l2=ridge)\n",
    "\n",
    "# Creating the model:\n",
    "lr = LogisticRegression() \n",
    "\n",
    "# Creating GridSearchCV model:\n",
    "lr_cv = GridSearchCV(lr, grid, cv=10) # Using lr model, grid parameters and cross validation of 10 (10 times of accuracy calculation will be applied) \n",
    "\n",
    "# Training the model:\n",
    "lr_cv.fit(X_train, y_train)\n",
    "\n",
    "print('best paremeters for logistic regression: ', lr_cv.best_params_)\n",
    "print('best score for logistic regression after grid search cv:', lr_cv.best_score_)"
   ]
  },
  {
   "cell_type": "code",
   "execution_count": 16,
   "metadata": {},
   "outputs": [
    {
     "name": "stdout",
     "output_type": "stream",
     "text": [
      "Scenario_2 (tuned) logistic regression score:  0.7358490566037735\n"
     ]
    }
   ],
   "source": [
    "lr_tuned = LogisticRegression(C=1.0, penalty='l2')\n",
    "\n",
    "lr_tuned.fit(X_train, y_train)\n",
    "\n",
    "print('Scenario_2 (tuned) logistic regression score: ', lr_tuned.score(X_val, y_val))"
   ]
  },
  {
   "cell_type": "code",
   "execution_count": null,
   "metadata": {},
   "outputs": [],
   "source": []
  }
 ],
 "metadata": {
  "kernelspec": {
   "display_name": "Python 3",
   "language": "python",
   "name": "python3"
  },
  "language_info": {
   "codemirror_mode": {
    "name": "ipython",
    "version": 3
   },
   "file_extension": ".py",
   "mimetype": "text/x-python",
   "name": "python",
   "nbconvert_exporter": "python",
   "pygments_lexer": "ipython3",
   "version": "3.7.7"
  }
 },
 "nbformat": 4,
 "nbformat_minor": 4
}
